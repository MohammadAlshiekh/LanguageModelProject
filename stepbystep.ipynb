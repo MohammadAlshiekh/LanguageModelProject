{
 "cells": [
  {
   "attachments": {},
   "cell_type": "markdown",
   "metadata": {},
   "source": [
    "# Input file"
   ]
  },
  {
   "cell_type": "code",
   "execution_count": 17,
   "metadata": {},
   "outputs": [],
   "source": [
    "with open('data.txt', 'r') as f:\n",
    "    data = f.read()"
   ]
  },
  {
   "cell_type": "code",
   "execution_count": 18,
   "metadata": {},
   "outputs": [],
   "source": [
    "chars = sorted(list(set(data)))\n",
    "vocab_size = len(chars)"
   ]
  },
  {
   "attachments": {},
   "cell_type": "markdown",
   "metadata": {},
   "source": [
    "# Bigram Model"
   ]
  },
  {
   "cell_type": "code",
   "execution_count": 105,
   "metadata": {},
   "outputs": [],
   "source": [
    "import torch\n",
    "import torch.nn as nn\n",
    "import torch.nn.functional as F\n",
    "\n",
    "torch.manual_seed(20230420)\n",
    "\n",
    "class MyBigramModel(nn.Module):\n",
    "\n",
    "    def __init__(self, vocab_size, embedding_dim, hidden_dim):\n",
    "        super().__init__()\n",
    "        self.embedding = nn.Embedding(vocab_size, embedding_dim)\n",
    "        self.rnn = nn.RNN(embedding_dim, hidden_dim, batch_first=True)\n",
    "        self.linear = nn.Linear(hidden_dim, vocab_size)\n",
    "\n",
    "    def forward(self, idx, targets=None):\n",
    "        # idx is (B, T) array of indices in the current context\n",
    "        # targets is (B, T) array of indices in the next context\n",
    "        # get the embeddings\n",
    "        embeddings = self.embedding(idx) # (B, T, E)\n",
    "        # run the RNN\n",
    "        rnn_out, _ = self.rnn(embeddings) # (B, T, H)\n",
    "        # get the logits\n",
    "        logits = self.linear(rnn_out) # (B, T, C)\n",
    "        if targets is None:\n",
    "            loss = None\n",
    "        else:\n",
    "            B, T, C = logits.shape\n",
    "            logits = logits.view(B*T, C)\n",
    "            targets = targets.view(B*T)\n",
    "            loss = F.cross_entropy(logits, targets)\n",
    "        return logits, loss\n",
    "    \n",
    "    def generate(self, idx, max_len=100):\n",
    "        # idx is (B, T) array of indices in the current context\n",
    "        for _ in range(max_len):\n",
    "            # get the predictions\n",
    "            logits, loss = self(idx)\n",
    "            # focus only on the last time step\n",
    "            logits = logits[:, -1, :] # becomes (B, C)\n",
    "            # apply softmax to get probabilities\n",
    "            probs = F.softmax(logits, dim=-1) # (B, C)\n",
    "            # sample from the distribution\n",
    "            idx_next = torch.multinomial(probs, num_samples=1) # (B, 1)\n",
    "            # append sampled index to the running sequence\n",
    "            idx = torch.cat((idx, idx_next), dim=1) # (B, T+1)\n",
    "        return idx"
   ]
  },
  {
   "cell_type": "code",
   "execution_count": 115,
   "metadata": {},
   "outputs": [
    {
     "name": "stdout",
     "output_type": "stream",
     "text": [
      "torch.Size([6, 65]) tensor(4.3064, grad_fn=<NllLossBackward0>)\n",
      "\n",
      "EgfLyxQz.waDtSt;e'FIRMdJ;sCfnDSpC,;DMGEIle-q?rWTzDtQhEDKioaH!cP$cqra'G d,RPRGTtxrs\n",
      "?;kGBb?q&geSimb,L\n"
     ]
    }
   ],
   "source": [
    "embedding_dim = 10\n",
    "hidden_dim = 20\n",
    "\n",
    "itos = { i:ch for i,ch in enumerate(chars) }\n",
    "decode = lambda l: ''.join([itos[i] for i in l]) # decoder: take a list of integers, output a string\n",
    "\n",
    "model = MyBigramModel(vocab_size, embedding_dim, hidden_dim)\n",
    "\n",
    "x = torch.randint(0, vocab_size, (3, 2))\n",
    "y = torch.randint(0, vocab_size, (3, 2))\n",
    "\n",
    "out, loss = model(x, y)\n",
    "print(out.shape, loss)\n",
    "\n",
    "x = torch.randint(0, vocab_size, (3, 1))\n",
    "print(decode(model.generate(idx = torch.zeros((1, 1), dtype=torch.long), max_len=100)[0].tolist()))\n"
   ]
  },
  {
   "cell_type": "code",
   "execution_count": null,
   "metadata": {},
   "outputs": [],
   "source": []
  }
 ],
 "metadata": {
  "kernelspec": {
   "display_name": "base",
   "language": "python",
   "name": "python3"
  },
  "language_info": {
   "codemirror_mode": {
    "name": "ipython",
    "version": 3
   },
   "file_extension": ".py",
   "mimetype": "text/x-python",
   "name": "python",
   "nbconvert_exporter": "python",
   "pygments_lexer": "ipython3",
   "version": "3.8.5"
  },
  "orig_nbformat": 4
 },
 "nbformat": 4,
 "nbformat_minor": 2
}
